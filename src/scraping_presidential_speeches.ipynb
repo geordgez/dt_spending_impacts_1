{
 "cells": [
  {
   "cell_type": "markdown",
   "metadata": {},
   "source": [
    "# Scraping Presidential Speeches"
   ]
  },
  {
   "cell_type": "markdown",
   "metadata": {},
   "source": [
    "Scrapes the campaign speeches of Democratic and Republican candidates from each election cycle available on the UCSB preidency "
   ]
  },
  {
   "cell_type": "code",
   "execution_count": 74,
   "metadata": {
    "collapsed": false
   },
   "outputs": [],
   "source": [
    "import re\n",
    "import time\n",
    "import numpy as np\n",
    "import pandas as pd\n",
    "import json\n",
    "\n",
    "from lxml import html\n",
    "from bs4 import BeautifulSoup\n",
    "import requests\n",
    "\n",
    "from __future__ import division\n",
    "import nltk, re, pprint\n",
    "from nltk import word_tokenize"
   ]
  },
  {
   "cell_type": "markdown",
   "metadata": {},
   "source": [
    "General scraping parameters from the UCSB Presidential Election Database:"
   ]
  },
  {
   "cell_type": "code",
   "execution_count": 2,
   "metadata": {
    "collapsed": true
   },
   "outputs": [],
   "source": [
    "ucsb_base_url = \"http://www.presidency.ucsb.edu/\""
   ]
  },
  {
   "cell_type": "code",
   "execution_count": 3,
   "metadata": {
    "collapsed": true
   },
   "outputs": [],
   "source": [
    "\"\"\"\n",
    "Input: URL\n",
    "Output: BeautifulSoup object of page contents\n",
    "\"\"\"\n",
    "def get_bs_html_text(page_url):\n",
    "    return BeautifulSoup(page_url.text, 'html.parser')"
   ]
  },
  {
   "cell_type": "code",
   "execution_count": 4,
   "metadata": {
    "collapsed": true
   },
   "outputs": [],
   "source": [
    "\"\"\"\n",
    "Input: string\n",
    "Output: string with initial superdirectory prefix removed\n",
    "\"\"\"\n",
    "def remove_super_dir_prefix(url_path):\n",
    "    return url_path.replace(\"../\",\"\")"
   ]
  },
  {
   "cell_type": "markdown",
   "metadata": {},
   "source": [
    "### Automating process to get a list of links"
   ]
  },
  {
   "cell_type": "markdown",
   "metadata": {},
   "source": [
    "List of candidates:\n",
    "- Trump 2016: http://www.presidency.ucsb.edu/2016_election_speeches.php?candidate=45&campaign=2016TRUMP&doctype=5000\n",
    "\n",
    "- Hillary 2016: http://www.presidency.ucsb.edu/2016_election_speeches.php?candidate=70&campaign=2016CLINTON&doctype=5000\n",
    "\n",
    "- Obama 2012: http://www.presidency.ucsb.edu/2012_election_speeches.php?candidate=44&doctype=1150\n",
    "\n",
    "- Romney 2012: http://www.presidency.ucsb.edu/2012_election_speeches.php?candidate=79&campaign=2012ROMNEY&doctype=5000\n",
    "\n",
    "- Obama 2008: http://www.presidency.ucsb.edu/2008_election_speeches.php?candidate=44&campaign=2008OBAMA&doctype=5000\n",
    "\n",
    "- McCain 2008: http://www.presidency.ucsb.edu/2008_election_speeches.php?candidate=68&campaign=2008MCCAIN&doctype=5000\n",
    "\n",
    "- Kerry 2004: http://www.presidency.ucsb.edu/2004_election_speeches.php?candidate=67&campaign=2004KERRY"
   ]
  },
  {
   "cell_type": "markdown",
   "metadata": {},
   "source": [
    "Hard-coded URLs for scraping--not sure if there was an automated process available:"
   ]
  },
  {
   "cell_type": "code",
   "execution_count": 100,
   "metadata": {
    "collapsed": false
   },
   "outputs": [],
   "source": [
    "campaign_dict = {\n",
    "    'Trump_2016': 'http://www.presidency.ucsb.edu/2016_election_speeches.php?candidate=45&campaign=2016TRUMP&doctype=5000',\n",
    "    'Hillary_2016': 'http://www.presidency.ucsb.edu/2016_election_speeches.php?candidate=70&campaign=2016CLINTON&doctype=5000',\n",
    "    'Obama_2012': 'http://www.presidency.ucsb.edu/2012_election_speeches.php?candidate=44&doctype=1150',\n",
    "    'Romney_2012': 'http://www.presidency.ucsb.edu/2012_election_speeches.php?candidate=79&campaign=2012ROMNEY&doctype=5000',\n",
    "    'Obama_2008': 'http://www.presidency.ucsb.edu/2008_election_speeches.php?candidate=44&campaign=2008OBAMA&doctype=5000',\n",
    "    'McCain_2008': 'http://www.presidency.ucsb.edu/2008_election_speeches.php?candidate=68&campaign=2008MCCAIN&doctype=5000',\n",
    "    'Kerry_2004': 'http://www.presidency.ucsb.edu/2004_election_speeches.php?candidate=67&campaign=2004KERRY'}"
   ]
  },
  {
   "cell_type": "code",
   "execution_count": 108,
   "metadata": {
    "collapsed": false
   },
   "outputs": [
    {
     "name": "stdout",
     "output_type": "stream",
     "text": [
      "November 3, 2012\n",
      "September 1, 2012\n",
      "July 23, 2012\n",
      "July 5, 2012\n",
      "August 13, 2012\n",
      "August 12, 2012\n",
      "October 4, 2012\n",
      "November 4, 2012\n",
      "September 7, 2012\n",
      "September 17, 2012\n",
      "August 1, 2012\n",
      "September 13, 2012\n",
      "August 22, 2012\n",
      "September 18, 2008\n",
      "January 26, 2008\n",
      "August 21, 2007\n",
      "August 4, 2008\n",
      "November 4, 2008\n",
      "July 24, 2008\n",
      "February 7, 2008\n",
      "September 10, 2008\n",
      "October 26, 2008\n",
      "September 8, 2008\n",
      "September 25, 2008\n",
      "June 25, 2008\n",
      "June 26, 2008\n",
      "June 27, 2008\n",
      "October 9, 2008\n",
      "October 16, 2008\n",
      "September 24, 2008\n",
      "June 15, 2008\n",
      "September 24, 2008\n",
      "April 14, 2008\n",
      "June 23, 2007\n",
      "September 30, 2008\n",
      "October 23, 2008\n",
      "October 27, 2008\n",
      "July 20, 2008\n",
      "September 12, 2008\n",
      "June 22, 2007\n",
      "June 24, 2008\n",
      "January 8, 2008\n",
      "September 6, 2016\n",
      "October 15, 2016\n",
      "September 14, 2016\n",
      "April 27, 2016\n",
      "July 27, 2016\n",
      "July 11, 2016\n",
      "September 12, 2016\n",
      "November 2, 2012\n",
      "September 24, 2012\n",
      "October 5, 2012\n",
      "May 17, 2012\n",
      "September 1, 2012\n",
      "October 18, 2012\n",
      "October 12, 2012\n",
      "September 25, 2012\n",
      "October 12, 2012\n",
      "April 13, 2012\n",
      "August 30, 2011\n",
      "February 7, 2012\n",
      "February 7, 2016\n",
      "November 28, 2007\n",
      "February 1, 2016\n",
      "July 10, 2007\n",
      "June 13, 2015\n",
      "March 17, 2008\n",
      "June 2, 2016\n",
      "October 11, 2007\n",
      "October 31, 2016\n",
      "July 27, 2007\n",
      "September 30, 2016\n",
      "September 27, 2016\n",
      "February 1, 2016\n",
      "October 20, 2016\n",
      "August 26, 2008\n",
      "October 3, 2016\n",
      "October 16, 2007\n",
      "January 5, 2016\n",
      "May 24, 2007\n",
      "October 9, 2007\n",
      "October 10, 2016\n",
      "February 16, 2008\n",
      "April 9, 2008\n",
      "October 31, 2008\n",
      "April 25, 2007\n",
      "July 26, 2008\n",
      "April 22, 2008\n",
      "June 2, 2008\n",
      "March 25, 2008\n",
      "June 18, 2008\n",
      "September 27, 2007\n",
      "August 12, 2008\n",
      "October 26, 2008\n",
      "October 29, 2008\n",
      "April 23, 2008\n",
      "October 20, 2007\n",
      "February 19, 2008\n",
      "June 18, 2007\n",
      "April 2, 2008\n",
      "October 27, 2008\n",
      "September 3, 2008\n",
      "September 29, 2008\n",
      "April 5, 2008\n",
      "September 30, 2008\n",
      "September 17, 2008\n",
      "October 21, 2004\n",
      "September 11, 2004\n",
      "November 3, 2004\n",
      "June 6, 2004\n",
      "September 11, 2004\n",
      "October 16, 2004\n",
      "March 9, 2004\n",
      "May 10, 2004\n",
      "March 31, 2004\n",
      "October 23, 2004\n",
      "October 14, 2004\n",
      "CPU times: user 1min 54s, sys: 3.82 s, total: 1min 58s\n",
      "Wall time: 21min 20s\n"
     ]
    }
   ],
   "source": [
    "%%time\n",
    "\n",
    "# iterate over each candidate and campaign\n",
    "for candidate in campaign_dict:\n",
    "    \n",
    "    print candidate\n",
    "    \n",
    "    # get candidate campaign landing page\n",
    "    candidate_page = get_bs_html_text(requests.get(campaign_dict[candidate]))\n",
    "    speech_table = candidate_page.findAll('table',{'align': 'center'})[0]\n",
    "    \n",
    "    # store dictionary of speech titles, dates, and links\n",
    "    speeches_dict = {}\n",
    "    speech_rows = speech_table.findAll('tr')\n",
    "\n",
    "    # grab all speech links\n",
    "    for row in speech_rows:\n",
    "        \n",
    "        if row.has_attr('bgcolor'):\n",
    "\n",
    "            # record relevant information\n",
    "            link_container = row.find('a')\n",
    "            link = link_container['href']\n",
    "            title = link_container.contents[0]\n",
    "            row_date = row.findAll('td')[1].contents[0]\n",
    "\n",
    "            # new data fields\n",
    "            new_url = ucsb_base_url + remove_super_dir_prefix(link)\n",
    "            speech_id = title + \"; \" + row_date\n",
    "\n",
    "            speeches_dict[speech_id] = {'url': new_url, 'date': row_date}\n",
    "            \n",
    "    # scrape all speech pages\n",
    "    for title in speeches_dict:\n",
    "        \n",
    "        # grab speech information\n",
    "        url = speeches_dict[title]['url']\n",
    "        speech_page = get_bs_html_text(requests.get(url))\n",
    "        speech = speech_page.findAll('span', {'class': 'displaytext'})[0]\n",
    "        speeches_dict[title]['speech'] = speech.get_text()\n",
    "\n",
    "        time.sleep(1)\n",
    "    \n",
    "    # write json for each candidate campaign\n",
    "    json_file_name = '../out/' + candidate + '.json'\n",
    "    with open(json_file_name, 'w') as outfile:\n",
    "        json.dump(speeches_dict, outfile)"
   ]
  },
  {
   "cell_type": "code",
   "execution_count": null,
   "metadata": {
    "collapsed": true
   },
   "outputs": [],
   "source": []
  },
  {
   "cell_type": "markdown",
   "metadata": {},
   "source": [
    "### Process speech content"
   ]
  },
  {
   "cell_type": "markdown",
   "metadata": {},
   "source": [
    "See http://www.nltk.org/book/ch03.html#fig-pipeline1 and surrounding text for more background information on the process."
   ]
  },
  {
   "cell_type": "code",
   "execution_count": 11,
   "metadata": {
    "collapsed": false
   },
   "outputs": [],
   "source": [
    "dt_speech_tokens = word_tokenize(dt_candidacy_speech.get_text())"
   ]
  },
  {
   "cell_type": "code",
   "execution_count": 12,
   "metadata": {
    "collapsed": false
   },
   "outputs": [],
   "source": [
    "dt_speech_ttxt = nltk.Text(dt_speech_tokens)"
   ]
  },
  {
   "cell_type": "code",
   "execution_count": 13,
   "metadata": {
    "collapsed": false
   },
   "outputs": [],
   "source": [
    "dt_speech_words = [re.sub('[^A-Za-z]+', '', w.lower()) for w in dt_speech_ttxt]\n",
    "dt_speech_words = [w for w in dt_speech_words if len(w) > 1]"
   ]
  },
  {
   "cell_type": "code",
   "execution_count": 14,
   "metadata": {
    "collapsed": true
   },
   "outputs": [],
   "source": [
    "dt_speech_vocab = sorted(set(dt_speech_words))"
   ]
  },
  {
   "cell_type": "code",
   "execution_count": 15,
   "metadata": {
    "collapsed": false
   },
   "outputs": [],
   "source": [
    "dt_speech_words = pd.Series(dt_speech_words)"
   ]
  },
  {
   "cell_type": "code",
   "execution_count": 17,
   "metadata": {
    "collapsed": false,
    "scrolled": true
   },
   "outputs": [],
   "source": [
    "dt_word_counts = pd.DataFrame(dt_speech_words.value_counts())\n",
    "dt_word_counts.columns = ['count']"
   ]
  }
 ],
 "metadata": {
  "kernelspec": {
   "display_name": "Python 2",
   "language": "python",
   "name": "python2"
  },
  "language_info": {
   "codemirror_mode": {
    "name": "ipython",
    "version": 2
   },
   "file_extension": ".py",
   "mimetype": "text/x-python",
   "name": "python",
   "nbconvert_exporter": "python",
   "pygments_lexer": "ipython2",
   "version": "2.7.10"
  }
 },
 "nbformat": 4,
 "nbformat_minor": 0
}
