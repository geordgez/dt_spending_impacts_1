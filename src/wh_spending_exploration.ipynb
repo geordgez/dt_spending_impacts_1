{
 "cells": [
  {
   "cell_type": "code",
   "execution_count": 1,
   "metadata": {
    "collapsed": true
   },
   "outputs": [],
   "source": [
    "%matplotlib inline"
   ]
  },
  {
   "cell_type": "code",
   "execution_count": 2,
   "metadata": {
    "collapsed": false
   },
   "outputs": [],
   "source": [
    "import numpy as np\n",
    "import pandas as pd\n",
    "import matplotlib as mpl\n",
    "import matplotlib.pyplot as plt\n",
    "import copy"
   ]
  },
  {
   "cell_type": "markdown",
   "metadata": {},
   "source": [
    "Might want to read http://www.seanabu.com/2016/03/22/time-series-seasonal-ARIMA-model-in-python/."
   ]
  },
  {
   "cell_type": "markdown",
   "metadata": {},
   "source": [
    "## Reading in a single data file"
   ]
  },
  {
   "cell_type": "markdown",
   "metadata": {},
   "source": [
    "Data obtained from:\n",
    "- https://www.whitehouse.gov/omb/budget/Historicals"
   ]
  },
  {
   "cell_type": "code",
   "execution_count": 40,
   "metadata": {
    "collapsed": false
   },
   "outputs": [],
   "source": [
    "# read in file\n",
    "t31_super_fxn = pd.read_excel('../data/hist03z1.xls', \n",
    "                              skiprows = 1, index_col = 'Superfunction and Function',)\n",
    "\n",
    "# select columns \n",
    "t31_super_fxn = t31_super_fxn.iloc[[32,1,2,11,38,48,12,13,14,17,18]]\n",
    "t31_super_fxn = t31_super_fxn.T"
   ]
  },
  {
   "cell_type": "code",
   "execution_count": 20,
   "metadata": {
    "collapsed": false
   },
   "outputs": [
    {
     "data": {
      "text/html": [
       "<div>\n",
       "<table border=\"1\" class=\"dataframe\">\n",
       "  <thead>\n",
       "    <tr style=\"text-align: right;\">\n",
       "      <th>Superfunction and Function</th>\n",
       "      <th>Total, Federal outlays</th>\n",
       "      <th>National Defense</th>\n",
       "      <th>Human resources</th>\n",
       "      <th>Physical resources</th>\n",
       "      <th>Physical resources</th>\n",
       "      <th>Physical resources</th>\n",
       "      <th>Energy</th>\n",
       "      <th>Natural Resources and Environment</th>\n",
       "      <th>Commerce and Housing Credit</th>\n",
       "      <th>Transportation</th>\n",
       "      <th>Community and Regional Development</th>\n",
       "    </tr>\n",
       "  </thead>\n",
       "  <tbody>\n",
       "    <tr>\n",
       "      <th>1940</th>\n",
       "      <td>9468</td>\n",
       "      <td>1660</td>\n",
       "      <td>4139</td>\n",
       "      <td>2312</td>\n",
       "      <td>24.4</td>\n",
       "      <td>2.4</td>\n",
       "      <td>88</td>\n",
       "      <td>997</td>\n",
       "      <td>550</td>\n",
       "      <td>392</td>\n",
       "      <td>285</td>\n",
       "    </tr>\n",
       "    <tr>\n",
       "      <th>1941</th>\n",
       "      <td>13653</td>\n",
       "      <td>6435</td>\n",
       "      <td>4158</td>\n",
       "      <td>1782</td>\n",
       "      <td>13.1</td>\n",
       "      <td>1.5</td>\n",
       "      <td>91</td>\n",
       "      <td>817</td>\n",
       "      <td>398</td>\n",
       "      <td>353</td>\n",
       "      <td>123</td>\n",
       "    </tr>\n",
       "    <tr>\n",
       "      <th>1942</th>\n",
       "      <td>35137</td>\n",
       "      <td>25658</td>\n",
       "      <td>3599</td>\n",
       "      <td>3892</td>\n",
       "      <td>11.1</td>\n",
       "      <td>2.6</td>\n",
       "      <td>156</td>\n",
       "      <td>819</td>\n",
       "      <td>1521</td>\n",
       "      <td>1283</td>\n",
       "      <td>113</td>\n",
       "    </tr>\n",
       "    <tr>\n",
       "      <th>1943</th>\n",
       "      <td>78555</td>\n",
       "      <td>66699</td>\n",
       "      <td>2659</td>\n",
       "      <td>6433</td>\n",
       "      <td>8.2</td>\n",
       "      <td>3.5</td>\n",
       "      <td>116</td>\n",
       "      <td>726</td>\n",
       "      <td>2151</td>\n",
       "      <td>3220</td>\n",
       "      <td>219</td>\n",
       "    </tr>\n",
       "    <tr>\n",
       "      <th>1944</th>\n",
       "      <td>91304</td>\n",
       "      <td>79143</td>\n",
       "      <td>1928</td>\n",
       "      <td>5471</td>\n",
       "      <td>6</td>\n",
       "      <td>2.6</td>\n",
       "      <td>65</td>\n",
       "      <td>642</td>\n",
       "      <td>624</td>\n",
       "      <td>3901</td>\n",
       "      <td>238</td>\n",
       "    </tr>\n",
       "  </tbody>\n",
       "</table>\n",
       "</div>"
      ],
      "text/plain": [
       "Superfunction and Function Total, Federal outlays National Defense  \\\n",
       "1940                                         9468             1660   \n",
       "1941                                        13653             6435   \n",
       "1942                                        35137            25658   \n",
       "1943                                        78555            66699   \n",
       "1944                                        91304            79143   \n",
       "\n",
       "Superfunction and Function Human resources Physical resources  \\\n",
       "1940                                  4139               2312   \n",
       "1941                                  4158               1782   \n",
       "1942                                  3599               3892   \n",
       "1943                                  2659               6433   \n",
       "1944                                  1928               5471   \n",
       "\n",
       "Superfunction and Function Physical resources Physical resources Energy  \\\n",
       "1940                                     24.4                2.4     88   \n",
       "1941                                     13.1                1.5     91   \n",
       "1942                                     11.1                2.6    156   \n",
       "1943                                      8.2                3.5    116   \n",
       "1944                                        6                2.6     65   \n",
       "\n",
       "Superfunction and Function Natural Resources and Environment  \\\n",
       "1940                                                     997   \n",
       "1941                                                     817   \n",
       "1942                                                     819   \n",
       "1943                                                     726   \n",
       "1944                                                     642   \n",
       "\n",
       "Superfunction and Function Commerce and Housing Credit Transportation  \\\n",
       "1940                                               550            392   \n",
       "1941                                               398            353   \n",
       "1942                                              1521           1283   \n",
       "1943                                              2151           3220   \n",
       "1944                                               624           3901   \n",
       "\n",
       "Superfunction and Function Community and Regional Development  \n",
       "1940                                                      285  \n",
       "1941                                                      123  \n",
       "1942                                                      113  \n",
       "1943                                                      219  \n",
       "1944                                                      238  "
      ]
     },
     "execution_count": 20,
     "metadata": {},
     "output_type": "execute_result"
    }
   ],
   "source": [
    "t31_super_fxn.head()"
   ]
  },
  {
   "cell_type": "code",
   "execution_count": 41,
   "metadata": {
    "collapsed": false
   },
   "outputs": [
    {
     "data": {
      "text/html": [
       "<div>\n",
       "<table border=\"1\" class=\"dataframe\">\n",
       "  <thead>\n",
       "    <tr style=\"text-align: right;\">\n",
       "      <th></th>\n",
       "      <th>ttl_fed_outlays</th>\n",
       "      <th>natl_defense</th>\n",
       "      <th>human_resources</th>\n",
       "      <th>total_physical_resources</th>\n",
       "      <th>inf_pct_of_outlay</th>\n",
       "      <th>inf_pct_of_gdp</th>\n",
       "      <th>energy</th>\n",
       "      <th>natural_resources</th>\n",
       "      <th>commercial_housing_credit</th>\n",
       "      <th>transportation</th>\n",
       "      <th>community_regional_development</th>\n",
       "    </tr>\n",
       "  </thead>\n",
       "  <tbody>\n",
       "    <tr>\n",
       "      <th>1940</th>\n",
       "      <td>9468</td>\n",
       "      <td>1660</td>\n",
       "      <td>4139</td>\n",
       "      <td>2312</td>\n",
       "      <td>24.4</td>\n",
       "      <td>2.4</td>\n",
       "      <td>88</td>\n",
       "      <td>997</td>\n",
       "      <td>550</td>\n",
       "      <td>392</td>\n",
       "      <td>285</td>\n",
       "    </tr>\n",
       "    <tr>\n",
       "      <th>1941</th>\n",
       "      <td>13653</td>\n",
       "      <td>6435</td>\n",
       "      <td>4158</td>\n",
       "      <td>1782</td>\n",
       "      <td>13.1</td>\n",
       "      <td>1.5</td>\n",
       "      <td>91</td>\n",
       "      <td>817</td>\n",
       "      <td>398</td>\n",
       "      <td>353</td>\n",
       "      <td>123</td>\n",
       "    </tr>\n",
       "    <tr>\n",
       "      <th>1942</th>\n",
       "      <td>35137</td>\n",
       "      <td>25658</td>\n",
       "      <td>3599</td>\n",
       "      <td>3892</td>\n",
       "      <td>11.1</td>\n",
       "      <td>2.6</td>\n",
       "      <td>156</td>\n",
       "      <td>819</td>\n",
       "      <td>1521</td>\n",
       "      <td>1283</td>\n",
       "      <td>113</td>\n",
       "    </tr>\n",
       "    <tr>\n",
       "      <th>1943</th>\n",
       "      <td>78555</td>\n",
       "      <td>66699</td>\n",
       "      <td>2659</td>\n",
       "      <td>6433</td>\n",
       "      <td>8.2</td>\n",
       "      <td>3.5</td>\n",
       "      <td>116</td>\n",
       "      <td>726</td>\n",
       "      <td>2151</td>\n",
       "      <td>3220</td>\n",
       "      <td>219</td>\n",
       "    </tr>\n",
       "    <tr>\n",
       "      <th>1944</th>\n",
       "      <td>91304</td>\n",
       "      <td>79143</td>\n",
       "      <td>1928</td>\n",
       "      <td>5471</td>\n",
       "      <td>6</td>\n",
       "      <td>2.6</td>\n",
       "      <td>65</td>\n",
       "      <td>642</td>\n",
       "      <td>624</td>\n",
       "      <td>3901</td>\n",
       "      <td>238</td>\n",
       "    </tr>\n",
       "  </tbody>\n",
       "</table>\n",
       "</div>"
      ],
      "text/plain": [
       "     ttl_fed_outlays natl_defense human_resources total_physical_resources  \\\n",
       "1940            9468         1660            4139                     2312   \n",
       "1941           13653         6435            4158                     1782   \n",
       "1942           35137        25658            3599                     3892   \n",
       "1943           78555        66699            2659                     6433   \n",
       "1944           91304        79143            1928                     5471   \n",
       "\n",
       "     inf_pct_of_outlay inf_pct_of_gdp energy natural_resources  \\\n",
       "1940              24.4            2.4     88               997   \n",
       "1941              13.1            1.5     91               817   \n",
       "1942              11.1            2.6    156               819   \n",
       "1943               8.2            3.5    116               726   \n",
       "1944                 6            2.6     65               642   \n",
       "\n",
       "     commercial_housing_credit transportation community_regional_development  \n",
       "1940                       550            392                            285  \n",
       "1941                       398            353                            123  \n",
       "1942                      1521           1283                            113  \n",
       "1943                      2151           3220                            219  \n",
       "1944                       624           3901                            238  "
      ]
     },
     "execution_count": 41,
     "metadata": {},
     "output_type": "execute_result"
    }
   ],
   "source": [
    "# rename columns\n",
    "t31_super_fxn.columns = ['ttl_fed_outlays','natl_defense','human_resources',\n",
    "                         'total_physical_resources','inf_pct_of_outlay','inf_pct_of_gdp','energy',\n",
    "                         'natural_resources',\n",
    "                         'commercial_housing_credit','transportation','community_regional_development']\n",
    "\n",
    "# filter out estimates\n",
    "t31_super_fxn = t31_super_fxn[t31_super_fxn.index <= '2015']\n",
    "\n",
    "# convert index to integer\n",
    "t31_super_fxn.index = t31_super_fxn.index.astype(int)\n",
    "\n",
    "t31_super_fxn.head()"
   ]
  },
  {
   "cell_type": "code",
   "execution_count": 42,
   "metadata": {
    "collapsed": true
   },
   "outputs": [],
   "source": [
    "t31_super_fxn.to_csv('../data/infrastructure_spending.csv')"
   ]
  },
  {
   "cell_type": "markdown",
   "metadata": {},
   "source": [
    "Somewhere in here, need to add Kate's data"
   ]
  },
  {
   "cell_type": "code",
   "execution_count": 87,
   "metadata": {
    "collapsed": true
   },
   "outputs": [],
   "source": [
    "begin_year = 2004\n",
    "end_year = 2008\n",
    "yr_range_spending_1 = t31_super_fxn[((t31_super_fxn.index > begin_year) & (t31_super_fxn.index <= end_year))][['energy','natural_resources','transportation','community_regional_development']]"
   ]
  },
  {
   "cell_type": "code",
   "execution_count": 90,
   "metadata": {
    "collapsed": false,
    "scrolled": true
   },
   "outputs": [
    {
     "data": {
      "image/png": "[encoded data removed]",
      "text/plain": [
       "<matplotlib.figure.Figure at 0x109cfcb10>"
      ]
     },
     "metadata": {},
     "output_type": "display_data"
    }
   ],
   "source": [
    "fig, ax = plt.subplots(1,1,figsize=(12,12))\n",
    "\n",
    "bars_1 = ax.plot(yr_range_spending_1.index, yr_range_spending_1.community_regional_development)\n",
    "\n",
    "plt.show()"
   ]
  },
  {
   "cell_type": "markdown",
   "metadata": {},
   "source": [
    "## Testing out statsmodels tsa module"
   ]
  },
  {
   "cell_type": "markdown",
   "metadata": {},
   "source": [
    "Using a single data column in the data"
   ]
  },
  {
   "cell_type": "code",
   "execution_count": 7,
   "metadata": {
    "collapsed": false
   },
   "outputs": [
    {
     "data": {
      "text/html": [
       "<div>\n",
       "<table border=\"1\" class=\"dataframe\">\n",
       "  <thead>\n",
       "    <tr style=\"text-align: right;\">\n",
       "      <th></th>\n",
       "      <th>total_phys_res</th>\n",
       "      <th>pct_outlay</th>\n",
       "      <th>pct_gdp</th>\n",
       "      <th>energy</th>\n",
       "      <th>nat_res</th>\n",
       "      <th>comm_housing</th>\n",
       "      <th>transp</th>\n",
       "      <th>comm_reg_dev</th>\n",
       "    </tr>\n",
       "  </thead>\n",
       "  <tbody>\n",
       "    <tr>\n",
       "      <th>1940</th>\n",
       "      <td>2312</td>\n",
       "      <td>24.4</td>\n",
       "      <td>2.4</td>\n",
       "      <td>88</td>\n",
       "      <td>997</td>\n",
       "      <td>550</td>\n",
       "      <td>392</td>\n",
       "      <td>285</td>\n",
       "    </tr>\n",
       "    <tr>\n",
       "      <th>1941</th>\n",
       "      <td>1782</td>\n",
       "      <td>13.1</td>\n",
       "      <td>1.5</td>\n",
       "      <td>91</td>\n",
       "      <td>817</td>\n",
       "      <td>398</td>\n",
       "      <td>353</td>\n",
       "      <td>123</td>\n",
       "    </tr>\n",
       "    <tr>\n",
       "      <th>1942</th>\n",
       "      <td>3892</td>\n",
       "      <td>11.1</td>\n",
       "      <td>2.6</td>\n",
       "      <td>156</td>\n",
       "      <td>819</td>\n",
       "      <td>1521</td>\n",
       "      <td>1283</td>\n",
       "      <td>113</td>\n",
       "    </tr>\n",
       "    <tr>\n",
       "      <th>1943</th>\n",
       "      <td>6433</td>\n",
       "      <td>8.2</td>\n",
       "      <td>3.5</td>\n",
       "      <td>116</td>\n",
       "      <td>726</td>\n",
       "      <td>2151</td>\n",
       "      <td>3220</td>\n",
       "      <td>219</td>\n",
       "    </tr>\n",
       "    <tr>\n",
       "      <th>1944</th>\n",
       "      <td>5471</td>\n",
       "      <td>6</td>\n",
       "      <td>2.6</td>\n",
       "      <td>65</td>\n",
       "      <td>642</td>\n",
       "      <td>624</td>\n",
       "      <td>3901</td>\n",
       "      <td>238</td>\n",
       "    </tr>\n",
       "  </tbody>\n",
       "</table>\n",
       "</div>"
      ],
      "text/plain": [
       "     total_phys_res pct_outlay pct_gdp energy nat_res comm_housing transp  \\\n",
       "1940           2312       24.4     2.4     88     997          550    392   \n",
       "1941           1782       13.1     1.5     91     817          398    353   \n",
       "1942           3892       11.1     2.6    156     819         1521   1283   \n",
       "1943           6433        8.2     3.5    116     726         2151   3220   \n",
       "1944           5471          6     2.6     65     642          624   3901   \n",
       "\n",
       "     comm_reg_dev  \n",
       "1940          285  \n",
       "1941          123  \n",
       "1942          113  \n",
       "1943          219  \n",
       "1944          238  "
      ]
     },
     "execution_count": 7,
     "metadata": {},
     "output_type": "execute_result"
    }
   ],
   "source": [
    "df1 = copy.deepcopy(t31_super_fxn.T).T\n",
    "df1.head()"
   ]
  },
  {
   "cell_type": "code",
   "execution_count": 8,
   "metadata": {
    "collapsed": false
   },
   "outputs": [
    {
     "data": {
      "text/html": [
       "<div>\n",
       "<table border=\"1\" class=\"dataframe\">\n",
       "  <thead>\n",
       "    <tr style=\"text-align: right;\">\n",
       "      <th></th>\n",
       "      <th>total_phys_res</th>\n",
       "      <th>pct_outlay</th>\n",
       "      <th>pct_gdp</th>\n",
       "      <th>energy</th>\n",
       "      <th>nat_res</th>\n",
       "      <th>comm_housing</th>\n",
       "      <th>transp</th>\n",
       "      <th>comm_reg_dev</th>\n",
       "    </tr>\n",
       "  </thead>\n",
       "  <tbody>\n",
       "    <tr>\n",
       "      <th>1940-01-01</th>\n",
       "      <td>2312</td>\n",
       "      <td>24.4</td>\n",
       "      <td>2.4</td>\n",
       "      <td>88</td>\n",
       "      <td>997</td>\n",
       "      <td>550</td>\n",
       "      <td>392</td>\n",
       "      <td>285</td>\n",
       "    </tr>\n",
       "    <tr>\n",
       "      <th>1941-01-01</th>\n",
       "      <td>1782</td>\n",
       "      <td>13.1</td>\n",
       "      <td>1.5</td>\n",
       "      <td>91</td>\n",
       "      <td>817</td>\n",
       "      <td>398</td>\n",
       "      <td>353</td>\n",
       "      <td>123</td>\n",
       "    </tr>\n",
       "    <tr>\n",
       "      <th>1942-01-01</th>\n",
       "      <td>3892</td>\n",
       "      <td>11.1</td>\n",
       "      <td>2.6</td>\n",
       "      <td>156</td>\n",
       "      <td>819</td>\n",
       "      <td>1521</td>\n",
       "      <td>1283</td>\n",
       "      <td>113</td>\n",
       "    </tr>\n",
       "    <tr>\n",
       "      <th>1943-01-01</th>\n",
       "      <td>6433</td>\n",
       "      <td>8.2</td>\n",
       "      <td>3.5</td>\n",
       "      <td>116</td>\n",
       "      <td>726</td>\n",
       "      <td>2151</td>\n",
       "      <td>3220</td>\n",
       "      <td>219</td>\n",
       "    </tr>\n",
       "    <tr>\n",
       "      <th>1944-01-01</th>\n",
       "      <td>5471</td>\n",
       "      <td>6</td>\n",
       "      <td>2.6</td>\n",
       "      <td>65</td>\n",
       "      <td>642</td>\n",
       "      <td>624</td>\n",
       "      <td>3901</td>\n",
       "      <td>238</td>\n",
       "    </tr>\n",
       "  </tbody>\n",
       "</table>\n",
       "</div>"
      ],
      "text/plain": [
       "           total_phys_res pct_outlay pct_gdp energy nat_res comm_housing  \\\n",
       "1940-01-01           2312       24.4     2.4     88     997          550   \n",
       "1941-01-01           1782       13.1     1.5     91     817          398   \n",
       "1942-01-01           3892       11.1     2.6    156     819         1521   \n",
       "1943-01-01           6433        8.2     3.5    116     726         2151   \n",
       "1944-01-01           5471          6     2.6     65     642          624   \n",
       "\n",
       "           transp comm_reg_dev  \n",
       "1940-01-01    392          285  \n",
       "1941-01-01    353          123  \n",
       "1942-01-01   1283          113  \n",
       "1943-01-01   3220          219  \n",
       "1944-01-01   3901          238  "
      ]
     },
     "execution_count": 8,
     "metadata": {},
     "output_type": "execute_result"
    }
   ],
   "source": [
    "df1.index = pd.to_datetime(df1.index, format='%Y')\n",
    "df1.head()"
   ]
  },
  {
   "cell_type": "code",
   "execution_count": 9,
   "metadata": {
    "collapsed": false
   },
   "outputs": [],
   "source": [
    "# time series tools\n",
    "from statsmodels.tsa.stattools import acf, pacf"
   ]
  },
  {
   "cell_type": "code",
   "execution_count": 10,
   "metadata": {
    "collapsed": false
   },
   "outputs": [
    {
     "data": {
      "text/plain": [
       "[<matplotlib.lines.Line2D at 0x108f21410>]"
      ]
     },
     "execution_count": 10,
     "metadata": {},
     "output_type": "execute_result"
    },
    {
     "data": {
      "image/png": "[encoded data removed]",
      "text/plain": [
       "<matplotlib.figure.Figure at 0x1053d4c90>"
      ]
     },
     "metadata": {},
     "output_type": "display_data"
    }
   ],
   "source": [
    "# analyze autocorrelation for spending\n",
    "\n",
    "lag_acf = acf(df1.energy, nlags = 10)\n",
    "lag_pacf = pacf(df1.energy, nlags = 10)\n",
    "\n",
    "plt.subplot(121)\n",
    "plt.plot(lag_acf)\n",
    "\n",
    "plt.subplot(122)\n",
    "plt.plot(lag_pacf)"
   ]
  },
  {
   "cell_type": "markdown",
   "metadata": {
    "collapsed": true
   },
   "source": [
    "Also see http://machinelearningmastery.com/time-series-prediction-with-deep-learning-in-python-with-keras/"
   ]
  },
  {
   "cell_type": "code",
   "execution_count": 13,
   "metadata": {
    "collapsed": false
   },
   "outputs": [
    {
     "data": {
      "text/plain": [
       "<matplotlib.axes._subplots.AxesSubplot at 0x108d0e810>"
      ]
     },
     "execution_count": 13,
     "metadata": {},
     "output_type": "execute_result"
    },
    {
     "data": {
      "image/png": "[encoded data removed]",
      "text/plain": [
       "<matplotlib.figure.Figure at 0x108fc0350>"
      ]
     },
     "metadata": {},
     "output_type": "display_data"
    }
   ],
   "source": [
    "(df1.energy.apply(lambda x: np.log(x))).plot()"
   ]
  },
  {
   "cell_type": "code",
   "execution_count": 14,
   "metadata": {
    "collapsed": false
   },
   "outputs": [
    {
     "data": {
      "text/plain": [
       "<matplotlib.axes._subplots.AxesSubplot at 0x109237610>"
      ]
     },
     "execution_count": 14,
     "metadata": {},
     "output_type": "execute_result"
    },
    {
     "data": {
      "image/png": "[encoded data removed]",
      "text/plain": [
       "<matplotlib.figure.Figure at 0x1064c1c50>"
      ]
     },
     "metadata": {},
     "output_type": "display_data"
    }
   ],
   "source": [
    "df1.energy.plot()"
   ]
  },
  {
   "cell_type": "code",
   "execution_count": 21,
   "metadata": {
    "collapsed": true
   },
   "outputs": [],
   "source": [
    "from statsmodels.tsa.arima_model import ARMA"
   ]
  },
  {
   "cell_type": "code",
   "execution_count": 22,
   "metadata": {
    "collapsed": false
   },
   "outputs": [],
   "source": [
    "model1 = ARMA(df1.energy, order=(2,0,2))\n",
    "results1 = model1.fit(disp=-1)"
   ]
  },
  {
   "cell_type": "markdown",
   "metadata": {
    "collapsed": true
   },
   "source": [
    "See https://www.analyticsvidhya.com/blog/2016/02/time-series-forecasting-codes-python/ for pointers"
   ]
  },
  {
   "cell_type": "code",
   "execution_count": 24,
   "metadata": {
    "collapsed": false
   },
   "outputs": [
    {
     "data": {
      "text/plain": [
       "<matplotlib.axes._subplots.AxesSubplot at 0x10927fcd0>"
      ]
     },
     "execution_count": 24,
     "metadata": {},
     "output_type": "execute_result"
    },
    {
     "data": {
      "image/png": "[encoded data removed]",
      "text/plain": [
       "<matplotlib.figure.Figure at 0x10981a390>"
      ]
     },
     "metadata": {},
     "output_type": "display_data"
    }
   ],
   "source": [
    "results1.fittedvalues.plot()"
   ]
  },
  {
   "cell_type": "code",
   "execution_count": null,
   "metadata": {
    "collapsed": true
   },
   "outputs": [],
   "source": []
  }
 ],
 "metadata": {
  "kernelspec": {
   "display_name": "Python 2",
   "language": "python",
   "name": "python2"
  },
  "language_info": {
   "codemirror_mode": {
    "name": "ipython",
    "version": 2
   },
   "file_extension": ".py",
   "mimetype": "text/x-python",
   "name": "python",
   "nbconvert_exporter": "python",
   "pygments_lexer": "ipython2",
   "version": "2.7.10"
  }
 },
 "nbformat": 4,
 "nbformat_minor": 0
}
