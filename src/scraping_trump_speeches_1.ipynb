{
 "cells": [
  {
   "cell_type": "code",
   "execution_count": 1,
   "metadata": {
    "collapsed": false
   },
   "outputs": [],
   "source": [
    "import re\n",
    "import time\n",
    "import numpy as np\n",
    "import pandas as pd\n",
    "from itertools import groupby\n",
    "\n",
    "from lxml import html\n",
    "from bs4 import BeautifulSoup\n",
    "import requests\n",
    "\n",
    "from __future__ import division  # Python 2 users only\n",
    "import nltk, re, pprint\n",
    "from nltk import word_tokenize\n",
    "from pattern.en import parse\n",
    "\n",
    "# from selenium import webdriver"
   ]
  },
  {
   "cell_type": "markdown",
   "metadata": {},
   "source": [
    "General scraping parameters from the UCSB Presidential Election Database:"
   ]
  },
  {
   "cell_type": "code",
   "execution_count": 2,
   "metadata": {
    "collapsed": true
   },
   "outputs": [],
   "source": [
    "ucsb_base_url = \"http://www.presidency.ucsb.edu/\"\n",
    "all_elections_list_page = requests.get(ucsb_base_url + \"2016_election.php\")"
   ]
  },
  {
   "cell_type": "code",
   "execution_count": 3,
   "metadata": {
    "collapsed": true
   },
   "outputs": [],
   "source": [
    "\"\"\"\n",
    "Input: URL\n",
    "Output: BeautifulSoup object of page contents\n",
    "\"\"\"\n",
    "def get_bs_html_text(page_url):\n",
    "    return BeautifulSoup(page_url.text, 'html.parser')"
   ]
  },
  {
   "cell_type": "code",
   "execution_count": 4,
   "metadata": {
    "collapsed": true
   },
   "outputs": [],
   "source": [
    "\"\"\"\n",
    "Input: string\n",
    "Output: string with initial superdirectory prefix removed\n",
    "\"\"\"\n",
    "def remove_super_dir_prefix(url_path):\n",
    "    return url_path.replace(\"../\",\"\")"
   ]
  },
  {
   "cell_type": "markdown",
   "metadata": {},
   "source": [
    "# Trump scraping"
   ]
  },
  {
   "cell_type": "markdown",
   "metadata": {},
   "source": [
    "### Get all links from specific candidate and document type"
   ]
  },
  {
   "cell_type": "markdown",
   "metadata": {},
   "source": [
    "Scrape all links from the page for all documents regarding Trump's election speeches and remarks only."
   ]
  },
  {
   "cell_type": "code",
   "execution_count": 5,
   "metadata": {
    "collapsed": false
   },
   "outputs": [],
   "source": [
    "# ucsb page specific to trump\n",
    "dt_speeches_remarks_url = ucsb_base_url + \\\n",
    "    \"2016_election_speeches.php?candidate=45&campaign=2016TRUMP&doctype=5000\"\n",
    "\n",
    "dt_speech_list_page = requests.get(dt_speeches_remarks_url)\n",
    "dt_speech_list_page = get_bs_html_text(dt_speech_list_page)"
   ]
  },
  {
   "cell_type": "markdown",
   "metadata": {},
   "source": [
    "Most speech lists are found in a table that is center-aligned."
   ]
  },
  {
   "cell_type": "code",
   "execution_count": 6,
   "metadata": {
    "collapsed": false
   },
   "outputs": [],
   "source": [
    "dt_speech_table = dt_speech_list_page.findAll('table', {'align': 'center'})[0]"
   ]
  },
  {
   "cell_type": "code",
   "execution_count": 7,
   "metadata": {
    "collapsed": false
   },
   "outputs": [],
   "source": [
    "dt_speech_links = [elem['href'] for elem in dt_speech_table.findAll('a')]"
   ]
  },
  {
   "cell_type": "markdown",
   "metadata": {},
   "source": [
    "### Get speech content"
   ]
  },
  {
   "cell_type": "markdown",
   "metadata": {},
   "source": [
    "Get text from a specific page containing speech info:"
   ]
  },
  {
   "cell_type": "code",
   "execution_count": 8,
   "metadata": {
    "collapsed": true
   },
   "outputs": [],
   "source": [
    "dt_candidacy_url = ucsb_base_url + remove_super_dir_prefix(dt_speech_links[0])\n",
    "dt_candidacy_page = requests.get(dt_candidacy_url)"
   ]
  },
  {
   "cell_type": "code",
   "execution_count": 9,
   "metadata": {
    "collapsed": false
   },
   "outputs": [],
   "source": [
    "dt_candidacy_page = get_bs_html_text(dt_candidacy_page)"
   ]
  },
  {
   "cell_type": "markdown",
   "metadata": {},
   "source": [
    "Most speeches contents are found in a span container with class displaytext."
   ]
  },
  {
   "cell_type": "code",
   "execution_count": 10,
   "metadata": {
    "collapsed": true
   },
   "outputs": [],
   "source": [
    "dt_candidacy_speech = dt_candidacy_page.findAll('span', {'class': 'displaytext'})[0]"
   ]
  },
  {
   "cell_type": "markdown",
   "metadata": {},
   "source": [
    "### Process speech content"
   ]
  },
  {
   "cell_type": "markdown",
   "metadata": {},
   "source": [
    "See http://www.nltk.org/book/ch03.html#fig-pipeline1 and surrounding text for more background information on the process."
   ]
  },
  {
   "cell_type": "code",
   "execution_count": 11,
   "metadata": {
    "collapsed": false
   },
   "outputs": [],
   "source": [
    "dt_speech_tokens = word_tokenize(dt_candidacy_speech.get_text())"
   ]
  },
  {
   "cell_type": "code",
   "execution_count": 12,
   "metadata": {
    "collapsed": false
   },
   "outputs": [],
   "source": [
    "dt_speech_ttxt = nltk.Text(dt_speech_tokens)"
   ]
  },
  {
   "cell_type": "code",
   "execution_count": 13,
   "metadata": {
    "collapsed": false
   },
   "outputs": [],
   "source": [
    "dt_speech_words = [re.sub('[^A-Za-z]+', '', w.lower()) for w in dt_speech_ttxt]\n",
    "dt_speech_words = [w for w in dt_speech_words if len(w) > 1]"
   ]
  },
  {
   "cell_type": "code",
   "execution_count": 14,
   "metadata": {
    "collapsed": true
   },
   "outputs": [],
   "source": [
    "dt_speech_vocab = sorted(set(dt_speech_words))"
   ]
  },
  {
   "cell_type": "code",
   "execution_count": 15,
   "metadata": {
    "collapsed": false
   },
   "outputs": [],
   "source": [
    "dt_speech_words = pd.Series(dt_speech_words)"
   ]
  },
  {
   "cell_type": "code",
   "execution_count": 17,
   "metadata": {
    "collapsed": false,
    "scrolled": true
   },
   "outputs": [],
   "source": [
    "dt_word_counts = pd.DataFrame(dt_speech_words.value_counts())\n",
    "dt_word_counts.columns = ['count']"
   ]
  }
 ],
 "metadata": {
  "kernelspec": {
   "display_name": "Python 2",
   "language": "python",
   "name": "python2"
  },
  "language_info": {
   "codemirror_mode": {
    "name": "ipython",
    "version": 2
   },
   "file_extension": ".py",
   "mimetype": "text/x-python",
   "name": "python",
   "nbconvert_exporter": "python",
   "pygments_lexer": "ipython2",
   "version": "2.7.10"
  }
 },
 "nbformat": 4,
 "nbformat_minor": 0
}
